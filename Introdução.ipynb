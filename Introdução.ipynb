{
  "nbformat": 4,
  "nbformat_minor": 0,
  "metadata": {
    "colab": {
      "provenance": [],
      "toc_visible": true
    },
    "kernelspec": {
      "name": "python3",
      "display_name": "Python 3"
    },
    "language_info": {
      "name": "python"
    }
  },
  "cells": [
    {
      "cell_type": "markdown",
      "source": [
        "**Aula 1**"
      ],
      "metadata": {
        "id": "3QmWNz5w5AyI"
      }
    },
    {
      "cell_type": "code",
      "execution_count": null,
      "metadata": {
        "colab": {
          "base_uri": "https://localhost:8080/"
        },
        "id": "iISy_uuN-4ir",
        "outputId": "066f94d3-9eb9-49c5-a967-658cb160cec1"
      },
      "outputs": [
        {
          "output_type": "stream",
          "name": "stdout",
          "text": [
            "USA, 21 de ouro, 30 de prata, 28 de bronze, 79 de total\n",
            "Alex - 000000 - 2024\n",
            "6.0\n",
            "99.0\n"
          ]
        }
      ],
      "source": [
        "medalhas = [{\"pais\": \"USA\", \"ouro\": 21, \"prata\": 30, \"bronze\": 28}]\n",
        "for item in medalhas:\n",
        "    print(f\"{item['pais']}, {item['ouro']} de ouro, {item['prata']} de prata, {item['bronze']} de bronze, {(int(item['ouro']) + int(item['prata'] + int(item['bronze'])))} de total\")\n",
        "\n",
        "\n",
        "class Student:\n",
        "  def  __init__(self, name, ra, year):\n",
        "    self.name = name\n",
        "    self.ra = ra\n",
        "    self.year = year\n",
        "\n",
        "  def whoami(self):\n",
        "    print(f\"{self.name} - {self.ra} - {self.year}\")\n",
        "\n",
        "\n",
        "student = Student(\"Alex\", \"000000\", \"2024\")\n",
        "student.whoami()\n",
        "\n",
        "print(2*2+8/2**2)\n",
        "print(100-99/3%2)"
      ]
    },
    {
      "cell_type": "code",
      "source": [],
      "metadata": {
        "id": "S19Fxpyd46wK"
      },
      "execution_count": null,
      "outputs": []
    }
  ]
}