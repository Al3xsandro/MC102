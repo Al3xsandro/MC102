{
  "nbformat": 4,
  "nbformat_minor": 0,
  "metadata": {
    "colab": {
      "provenance": []
    },
    "kernelspec": {
      "name": "python3",
      "display_name": "Python 3"
    },
    "language_info": {
      "name": "python"
    }
  },
  "cells": [
    {
      "cell_type": "markdown",
      "source": [
        "## **Verificando a versão de Python que está instalada**"
      ],
      "metadata": {
        "id": "fHUE91gUtbrA"
      }
    },
    {
      "cell_type": "code",
      "source": [
        "!python3 --version"
      ],
      "metadata": {
        "id": "oZavlM6Ip2By"
      },
      "execution_count": null,
      "outputs": []
    },
    {
      "cell_type": "markdown",
      "source": [
        "## **Função print**"
      ],
      "metadata": {
        "id": "zUCxfmkQtHQE"
      }
    },
    {
      "cell_type": "code",
      "source": [
        "print(\"Unicamp - MC102 - Turmas - IJKL\")"
      ],
      "metadata": {
        "id": "qgwgTdguBv7C"
      },
      "execution_count": null,
      "outputs": []
    },
    {
      "cell_type": "code",
      "source": [
        "print(\"Unicamp -\",\"MC102 -\",\"Turmas -\",\"IJKL\")"
      ],
      "metadata": {
        "id": "-apqUCAn064z"
      },
      "execution_count": null,
      "outputs": []
    },
    {
      "cell_type": "code",
      "source": [
        "print(\"Unicamp \",\" MC102 \",\" Turmas \",\" IJKL\", sep=\"-\")"
      ],
      "metadata": {
        "id": "tEh8ach-0AK7"
      },
      "execution_count": null,
      "outputs": []
    },
    {
      "cell_type": "markdown",
      "source": [
        "Parâmetros **sep** e **end** da função print"
      ],
      "metadata": {
        "id": "o7ea_U-qtnfg"
      }
    },
    {
      "cell_type": "code",
      "source": [
        "print(\"MC102 \", \" Unicamp \", \" 2024 \", sep = \":\", end =\"+ \")\n",
        "print(\"Vocês são os melhores!\")"
      ],
      "metadata": {
        "id": "do3lY-imz4Ob"
      },
      "execution_count": null,
      "outputs": []
    },
    {
      "cell_type": "code",
      "source": [
        "print(\"MC102 \", \"Unicamp \", \"2024 \", sep = \"+ \", end = \":\")\n",
        "print(\" Vocês são os melhores!\")"
      ],
      "metadata": {
        "id": "ErqATrdE54J-"
      },
      "execution_count": null,
      "outputs": []
    },
    {
      "cell_type": "code",
      "source": [
        "print(\"MC102 \", \"Unicamp \", \"2024 \", sep = \"+ \", end = \":\\n\")\n",
        "print(\"Vocês são os melhores!\")"
      ],
      "metadata": {
        "id": "8NflfI317NU4"
      },
      "execution_count": null,
      "outputs": []
    },
    {
      "cell_type": "markdown",
      "source": [
        "##**Declaração de variáveis**"
      ],
      "metadata": {
        "id": "9t30zDu6h9Am"
      }
    },
    {
      "cell_type": "markdown",
      "source": [
        "Regras de nomes de variáveis ​​​​Python\n",
        "\n",
        "\n",
        "\n",
        "*   O nome de uma variável deve começar com uma letra ou sublinhado\n",
        "*   Um nome de variável não pode começar com um número\n",
        "*   Um nome de variável só pode conter caracteres alfanuméricos e\n",
        "    sublinhados (A-z, 0-9 e _)\n",
        "*   Os nomes das variáveis ​​diferenciam maiúsculas de minúsculas."
      ],
      "metadata": {
        "id": "y09dAeg-z1Sp"
      }
    },
    {
      "cell_type": "code",
      "source": [
        "nome = \"João\"\n",
        "print(nome, type(nome))"
      ],
      "metadata": {
        "id": "8BBqw27hz0dl"
      },
      "execution_count": null,
      "outputs": []
    },
    {
      "cell_type": "code",
      "source": [
        "_ano_de_nascimento = 1990\n",
        "print(_ano_de_nascimento)"
      ],
      "metadata": {
        "id": "K5jAoo8I0_nC"
      },
      "execution_count": null,
      "outputs": []
    },
    {
      "cell_type": "code",
      "source": [
        "ano1 = 2024\n",
        "print(ano1)"
      ],
      "metadata": {
        "id": "a2KvknMK1S6f"
      },
      "execution_count": null,
      "outputs": []
    },
    {
      "cell_type": "code",
      "source": [
        "sobrenome_nome = \"da Silva\"\n",
        "print(sobrenome_nome)"
      ],
      "metadata": {
        "id": "hUHveqAs02kc"
      },
      "execution_count": null,
      "outputs": []
    },
    {
      "cell_type": "code",
      "source": [
        "# Atribuição de um mesmo valor para múltiplas variáveis\n",
        "a = b = c = d = e = 5\n",
        "print(a, b, c, d, e)"
      ],
      "metadata": {
        "id": "KcZ3jvmn3Nu5"
      },
      "execution_count": null,
      "outputs": []
    },
    {
      "cell_type": "code",
      "source": [
        "a = 10\n",
        "print(a)"
      ],
      "metadata": {
        "id": "E-yZm6RjyA9i"
      },
      "execution_count": null,
      "outputs": []
    },
    {
      "cell_type": "code",
      "source": [
        "# Atribução de valores diferentes para múltiplas variáveis com um único comando.\n",
        "a, b, c = 15, 25, 35\n",
        "print(a, b, c)"
      ],
      "metadata": {
        "id": "t--3pgZBq7uN"
      },
      "execution_count": null,
      "outputs": []
    },
    {
      "cell_type": "code",
      "source": [
        "#Atualizando o valor das variáveis\n",
        "a = 15\n",
        "b = \"Vinte e cinco\"\n",
        "c = 52.7\n",
        "d = \"Verdadeiro\"\n",
        "e = \"195.684\"\n",
        "f = False\n",
        "g = \"True\"\n",
        "print(a, type(a))\n",
        "print(b, type(b))\n",
        "print(c, type(c))\n",
        "print(d, type(d))\n",
        "print(e, type(e))\n",
        "print(f, type(f))\n",
        "print(g, type(g))"
      ],
      "metadata": {
        "id": "U6BFo496qnmO"
      },
      "execution_count": null,
      "outputs": []
    },
    {
      "cell_type": "markdown",
      "source": [
        "## **Operações matemáticas**"
      ],
      "metadata": {
        "id": "qgnpACFih3Au"
      }
    },
    {
      "cell_type": "markdown",
      "source": [
        "**Operadores Unários**\n",
        "\n",
        "Aceitam só um operando. Em Python, eles são -, +, ~, not (negação unária, positivo unário, negação bitwise e negação lógica)."
      ],
      "metadata": {
        "id": "6kF8AW-MNT1g"
      }
    },
    {
      "cell_type": "code",
      "source": [
        "#  Operadores Unários:\n",
        "x = True\n",
        "y = not x  #  O operador “not” inverte o valor booleano de x.\n",
        "print(y)"
      ],
      "metadata": {
        "id": "yS9h5CrAP_zU"
      },
      "execution_count": null,
      "outputs": []
    },
    {
      "cell_type": "code",
      "source": [
        "s = 1\n",
        "t = ~s  #  O operador “~” inverte os bits do inteiro s. (complemento a 2 mas sempre retorna um número negativo)\n",
        "print(t)"
      ],
      "metadata": {
        "id": "Ezcfm5Hs395A"
      },
      "execution_count": null,
      "outputs": []
    },
    {
      "cell_type": "code",
      "source": [
        "a = -8\n",
        "b = -a  #  O operador “-“ inverte o sinal de a.\n",
        "print(b)"
      ],
      "metadata": {
        "id": "wqjV7PKJQOdy"
      },
      "execution_count": null,
      "outputs": []
    },
    {
      "cell_type": "code",
      "source": [
        "x = True\n",
        "y = not x\n",
        "print(y)"
      ],
      "metadata": {
        "id": "yOodheYQS0T4"
      },
      "execution_count": null,
      "outputs": []
    },
    {
      "cell_type": "code",
      "source": [
        "i = 3.3\n",
        "print(-i)"
      ],
      "metadata": {
        "id": "QshfuKdNS8Nc"
      },
      "execution_count": null,
      "outputs": []
    },
    {
      "cell_type": "markdown",
      "source": [
        "**Operadores Aritméticos**"
      ],
      "metadata": {
        "id": "rFyy-M_9SHxC"
      }
    },
    {
      "cell_type": "code",
      "source": [
        "10 + 4"
      ],
      "metadata": {
        "id": "Xd43nc1CizsR"
      },
      "execution_count": null,
      "outputs": []
    },
    {
      "cell_type": "code",
      "source": [
        "10 - 4"
      ],
      "metadata": {
        "id": "Fi3SNV2oi2RS"
      },
      "execution_count": null,
      "outputs": []
    },
    {
      "cell_type": "code",
      "source": [
        "10 * 4"
      ],
      "metadata": {
        "id": "ZbHtlIpci35X"
      },
      "execution_count": null,
      "outputs": []
    },
    {
      "cell_type": "code",
      "source": [
        "10 ** 4    # exponente"
      ],
      "metadata": {
        "id": "cI2agHG7i5KI"
      },
      "execution_count": null,
      "outputs": []
    },
    {
      "cell_type": "code",
      "source": [
        "11 / 4      # divisão"
      ],
      "metadata": {
        "id": "vkSNi8TQi_AE"
      },
      "execution_count": null,
      "outputs": []
    },
    {
      "cell_type": "code",
      "source": [
        "11 // 4    # divisão inteira"
      ],
      "metadata": {
        "id": "w3_V-ywTjE_8"
      },
      "execution_count": null,
      "outputs": []
    },
    {
      "cell_type": "code",
      "source": [
        "11 % 4      # modulo - calcula o resto"
      ],
      "metadata": {
        "id": "G4Ajt_6-i7GH"
      },
      "execution_count": null,
      "outputs": []
    },
    {
      "cell_type": "markdown",
      "source": [
        "## **Exercício sobre Análise de Expressões**\n",
        "\n",
        "Analise o bloco de código a seguir e escreva a saída correspondente. Leve em consideração a ordem de precedência:\n",
        "\n",
        "*   Exponenciação\n",
        "*   Operadores unários.\n",
        "*   Multiplicação, divisão e módulo.\n",
        "*   Adição e subtração.\n"
      ],
      "metadata": {
        "id": "M6PnxChs-p9v"
      }
    },
    {
      "cell_type": "code",
      "source": [
        "a,b,c,d,e,f,g = 2, 3, 4, 5, 6, 7, 8\n",
        "print(a,b,c,d,e,f,g, sep = \"\\n\")\n",
        "z= (a**b-c/4+(f*g))\n",
        "print(\"O resultado dessa conta é\", z, sep = \"...\", end = \"!\")"
      ],
      "metadata": {
        "id": "ndQGqfgO5JZo"
      },
      "execution_count": null,
      "outputs": []
    },
    {
      "cell_type": "markdown",
      "source": [
        "## **Comparações**"
      ],
      "metadata": {
        "id": "FMRdj3Tzh25H"
      }
    },
    {
      "cell_type": "code",
      "source": [
        "x > 3"
      ],
      "metadata": {
        "id": "qgjdvv7VjYBr"
      },
      "execution_count": null,
      "outputs": []
    },
    {
      "cell_type": "code",
      "source": [
        "x >= 3"
      ],
      "metadata": {
        "id": "uO4O4gDQjZT-"
      },
      "execution_count": null,
      "outputs": []
    },
    {
      "cell_type": "code",
      "source": [
        "x != 3"
      ],
      "metadata": {
        "id": "5qexKrRjjake"
      },
      "execution_count": null,
      "outputs": []
    },
    {
      "cell_type": "code",
      "source": [
        "x == 5"
      ],
      "metadata": {
        "id": "6elg-YoDjbl3"
      },
      "execution_count": null,
      "outputs": []
    },
    {
      "cell_type": "markdown",
      "source": [
        "**Operações Booleanas:**"
      ],
      "metadata": {
        "id": "J41B5c6hh21w"
      }
    },
    {
      "cell_type": "code",
      "source": [
        "5 > 3 and 6 > 3"
      ],
      "metadata": {
        "id": "P2r1ataYjmNX"
      },
      "execution_count": null,
      "outputs": []
    },
    {
      "cell_type": "code",
      "source": [
        "5 > 3 or 5 < 3"
      ],
      "metadata": {
        "id": "d9X0UBq-jna3"
      },
      "execution_count": null,
      "outputs": []
    },
    {
      "cell_type": "code",
      "source": [
        "not False"
      ],
      "metadata": {
        "id": "oV-jiK7hjo2q"
      },
      "execution_count": null,
      "outputs": []
    },
    {
      "cell_type": "code",
      "source": [
        "False or not False and True     # ordem de avaliação: not, and, or"
      ],
      "metadata": {
        "id": "U1mVc3TRjwk7"
      },
      "execution_count": null,
      "outputs": []
    },
    {
      "cell_type": "markdown",
      "source": [
        "## **Exercício Conversão de tipos**\n",
        "\n",
        "Calcular a área de um círculo de radio 7.25"
      ],
      "metadata": {
        "id": "pb5gr_7Nh2fp"
      }
    },
    {
      "cell_type": "code",
      "execution_count": null,
      "metadata": {
        "id": "8nxY6LaeemRb"
      },
      "outputs": [],
      "source": [
        "pi = 3.141592653589793\n",
        "r = 7.25\n",
        "\n",
        "# Lembrando que a fórmula para calcular a area de um círculo é = π * r^2\n",
        "area = pi * r ** 2\n",
        "\n",
        "# Mostrando o resultado\n",
        "print(\"A área de um círculo com radio \" + str(r) + \" é: \" + str(area))"
      ]
    },
    {
      "cell_type": "code",
      "source": [
        "bool(\"\") #Conversão de string vazia para booleano"
      ],
      "metadata": {
        "id": "nPmrzRLbsV3t"
      },
      "execution_count": null,
      "outputs": []
    },
    {
      "cell_type": "code",
      "source": [
        "bool(\" \") #Conversão de string NÃO vazia para booleano"
      ],
      "metadata": {
        "id": "gTokhHP28efD"
      },
      "execution_count": null,
      "outputs": []
    },
    {
      "cell_type": "markdown",
      "source": [
        "## **Função Input**"
      ],
      "metadata": {
        "id": "9CaAItxL8p1u"
      }
    },
    {
      "cell_type": "code",
      "source": [
        "# Cálculo da hipotenusa de um triângulo retângulo usando a função input\n",
        "a_str = input(\"Digite um valor para o cateto a: \")\n",
        "b_str = input(\"Digite um valor para o cateto b: \")\n",
        "a = float(a_str)\n",
        "b = float(b_str)\n",
        "c = ((a * a) + (b * b)) ** (1/2)\n",
        "print(c)"
      ],
      "metadata": {
        "id": "zoXM45EvySwI"
      },
      "execution_count": null,
      "outputs": []
    }
  ]
}